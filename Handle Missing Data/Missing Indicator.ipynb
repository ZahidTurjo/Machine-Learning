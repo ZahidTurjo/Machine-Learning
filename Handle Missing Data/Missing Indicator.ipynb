{
 "cells": [
  {
   "cell_type": "code",
   "execution_count": 18,
   "id": "20a44d98-7b90-4f43-b5f3-ce20dc597573",
   "metadata": {},
   "outputs": [],
   "source": [
    "import pandas as pd\n",
    "import numpy as np\n",
    "import matplotlib.pyplot as plt"
   ]
  },
  {
   "cell_type": "code",
   "execution_count": 19,
   "id": "36cde97d-bd8c-47a1-9f57-c184b503ef64",
   "metadata": {},
   "outputs": [
    {
     "data": {
      "text/html": [
       "<div>\n",
       "<style scoped>\n",
       "    .dataframe tbody tr th:only-of-type {\n",
       "        vertical-align: middle;\n",
       "    }\n",
       "\n",
       "    .dataframe tbody tr th {\n",
       "        vertical-align: top;\n",
       "    }\n",
       "\n",
       "    .dataframe thead th {\n",
       "        text-align: right;\n",
       "    }\n",
       "</style>\n",
       "<table border=\"1\" class=\"dataframe\">\n",
       "  <thead>\n",
       "    <tr style=\"text-align: right;\">\n",
       "      <th></th>\n",
       "      <th>Survived</th>\n",
       "      <th>Age</th>\n",
       "      <th>Fare</th>\n",
       "    </tr>\n",
       "  </thead>\n",
       "  <tbody>\n",
       "    <tr>\n",
       "      <th>0</th>\n",
       "      <td>0</td>\n",
       "      <td>22.0</td>\n",
       "      <td>7.2500</td>\n",
       "    </tr>\n",
       "    <tr>\n",
       "      <th>1</th>\n",
       "      <td>1</td>\n",
       "      <td>38.0</td>\n",
       "      <td>71.2833</td>\n",
       "    </tr>\n",
       "    <tr>\n",
       "      <th>2</th>\n",
       "      <td>1</td>\n",
       "      <td>26.0</td>\n",
       "      <td>7.9250</td>\n",
       "    </tr>\n",
       "    <tr>\n",
       "      <th>3</th>\n",
       "      <td>1</td>\n",
       "      <td>35.0</td>\n",
       "      <td>53.1000</td>\n",
       "    </tr>\n",
       "    <tr>\n",
       "      <th>4</th>\n",
       "      <td>0</td>\n",
       "      <td>35.0</td>\n",
       "      <td>8.0500</td>\n",
       "    </tr>\n",
       "  </tbody>\n",
       "</table>\n",
       "</div>"
      ],
      "text/plain": [
       "   Survived   Age     Fare\n",
       "0         0  22.0   7.2500\n",
       "1         1  38.0  71.2833\n",
       "2         1  26.0   7.9250\n",
       "3         1  35.0  53.1000\n",
       "4         0  35.0   8.0500"
      ]
     },
     "execution_count": 19,
     "metadata": {},
     "output_type": "execute_result"
    }
   ],
   "source": [
    "df=pd.read_csv(\"https://github.com/campusx-official/100-days-of-machine-learning/raw/refs/heads/main/day38-missing-indicator/train.csv\",usecols=[\"Age\",\"Fare\",\"Survived\"])\n",
    "df.head()"
   ]
  },
  {
   "cell_type": "code",
   "execution_count": 20,
   "id": "fb65ea09-8fa9-4b5c-a645-006ef2f2edd8",
   "metadata": {},
   "outputs": [],
   "source": [
    "X=df.drop(columns=\"Survived\")\n",
    "y=df[\"Survived\"]"
   ]
  },
  {
   "cell_type": "code",
   "execution_count": 21,
   "id": "fe3bab83-47df-4cd1-aed3-c9b7ef646843",
   "metadata": {},
   "outputs": [],
   "source": [
    "from sklearn.model_selection import train_test_split"
   ]
  },
  {
   "cell_type": "code",
   "execution_count": 28,
   "id": "ce9f24b9-027b-4ccf-b308-8e2e87d327b0",
   "metadata": {},
   "outputs": [
    {
     "data": {
      "text/plain": [
       "((712, 2), (179, 2), (712,), (179,))"
      ]
     },
     "execution_count": 28,
     "metadata": {},
     "output_type": "execute_result"
    }
   ],
   "source": [
    "X_train,X_test,y_train,y_test=train_test_split(X,y,test_size=0.2,random_state=42)\n",
    "X_train.shape,X_test.shape,y_train.shape,y_test.shape"
   ]
  },
  {
   "cell_type": "code",
   "execution_count": 29,
   "id": "0aa82852-bacf-411e-a061-252133c929c5",
   "metadata": {},
   "outputs": [],
   "source": [
    "from sklearn.impute import SimpleImputer"
   ]
  },
  {
   "cell_type": "code",
   "execution_count": 30,
   "id": "e84c392a-43c1-4708-afb7-9f5e086e353c",
   "metadata": {},
   "outputs": [],
   "source": [
    "si=SimpleImputer()\n"
   ]
  },
  {
   "cell_type": "code",
   "execution_count": 31,
   "id": "0b676bc0-1cb3-4316-81f6-2b57fa6e5b3f",
   "metadata": {},
   "outputs": [],
   "source": [
    "X_train_trf=si.fit_transform(X_train)\n",
    "X_test_trf=si.transform(X_test)"
   ]
  },
  {
   "cell_type": "code",
   "execution_count": 33,
   "id": "c55f31fe-7fe6-4049-b0ef-b0ce18ab2ba9",
   "metadata": {},
   "outputs": [
    {
     "data": {
      "text/plain": [
       "0.6480446927374302"
      ]
     },
     "execution_count": 33,
     "metadata": {},
     "output_type": "execute_result"
    }
   ],
   "source": [
    "from sklearn.linear_model import LogisticRegression\n",
    "\n",
    "clf = LogisticRegression()\n",
    "\n",
    "clf.fit(X_train_trf,y_train)\n",
    "\n",
    "y_pred = clf.predict(X_test_trf)\n",
    "\n",
    "from sklearn.metrics import accuracy_score\n",
    "accuracy_score(y_test,y_pred)\n"
   ]
  },
  {
   "cell_type": "markdown",
   "id": "4ac9c829-dca1-4c5c-9f43-b04f216790de",
   "metadata": {},
   "source": [
    "## using indicator"
   ]
  },
  {
   "cell_type": "code",
   "execution_count": 34,
   "id": "2974c5c8-5404-46e4-a4c7-b8fea787e81d",
   "metadata": {},
   "outputs": [],
   "source": [
    "X=df.drop(columns=\"Survived\")\n",
    "y=df[\"Survived\"]"
   ]
  },
  {
   "cell_type": "code",
   "execution_count": 35,
   "id": "2f14fc1e-0b66-40b6-8292-99d84fa7cbc8",
   "metadata": {},
   "outputs": [
    {
     "data": {
      "text/plain": [
       "((712, 2), (179, 2), (712,), (179,))"
      ]
     },
     "execution_count": 35,
     "metadata": {},
     "output_type": "execute_result"
    }
   ],
   "source": [
    "X_train,X_test,y_train,y_test=train_test_split(X,y,test_size=0.2,random_state=42)\n",
    "X_train.shape,X_test.shape,y_train.shape,y_test.shape"
   ]
  },
  {
   "cell_type": "code",
   "execution_count": 36,
   "id": "6cfdd9a5-0aa6-4264-9c6c-3fce17bf25c8",
   "metadata": {},
   "outputs": [],
   "source": [
    "si=SimpleImputer(add_indicator=True)"
   ]
  },
  {
   "cell_type": "code",
   "execution_count": 37,
   "id": "3421ef7a-36ac-4ff0-bd6c-5e7451a49eb5",
   "metadata": {},
   "outputs": [],
   "source": [
    "X_train_trf1=si.fit_transform(X_train)\n",
    "X_test_trf1=si.transform(X_test)"
   ]
  },
  {
   "cell_type": "code",
   "execution_count": 38,
   "id": "f5e3c299-2005-48e7-980b-f77f90fb3687",
   "metadata": {},
   "outputs": [
    {
     "data": {
      "text/plain": [
       "0.6368715083798883"
      ]
     },
     "execution_count": 38,
     "metadata": {},
     "output_type": "execute_result"
    }
   ],
   "source": [
    "from sklearn.linear_model import LogisticRegression\n",
    "\n",
    "clf1 = LogisticRegression()\n",
    "\n",
    "clf1.fit(X_train_trf1,y_train)\n",
    "\n",
    "y_pred = clf1.predict(X_test_trf1)\n",
    "\n",
    "from sklearn.metrics import accuracy_score\n",
    "accuracy_score(y_test,y_pred)\n"
   ]
  },
  {
   "cell_type": "code",
   "execution_count": 40,
   "id": "c592dfdc-5293-4a35-b51d-409a3ee09281",
   "metadata": {},
   "outputs": [
    {
     "data": {
      "text/plain": [
       "array([[ 45.5   ,  28.5   ,   0.    ],\n",
       "       [ 23.    ,  13.    ,   0.    ],\n",
       "       [ 32.    ,   7.925 ,   0.    ],\n",
       "       ...,\n",
       "       [ 41.    ,  14.1083,   0.    ],\n",
       "       [ 14.    , 120.    ,   0.    ],\n",
       "       [ 21.    ,  77.2875,   0.    ]])"
      ]
     },
     "execution_count": 40,
     "metadata": {},
     "output_type": "execute_result"
    }
   ],
   "source": [
    "X_train_trf1"
   ]
  },
  {
   "cell_type": "code",
   "execution_count": null,
   "id": "1e80318b-fba7-4334-98ab-c4bdfa252424",
   "metadata": {},
   "outputs": [],
   "source": []
  }
 ],
 "metadata": {
  "kernelspec": {
   "display_name": "Python 3 (ipykernel)",
   "language": "python",
   "name": "python3"
  },
  "language_info": {
   "codemirror_mode": {
    "name": "ipython",
    "version": 3
   },
   "file_extension": ".py",
   "mimetype": "text/x-python",
   "name": "python",
   "nbconvert_exporter": "python",
   "pygments_lexer": "ipython3",
   "version": "3.12.4"
  }
 },
 "nbformat": 4,
 "nbformat_minor": 5
}
