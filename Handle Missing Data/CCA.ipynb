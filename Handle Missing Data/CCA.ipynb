{
 "cells": [
  {
   "cell_type": "code",
   "execution_count": 26,
   "id": "b64d9af2-d3d4-47bc-98de-53abcf81a8d5",
   "metadata": {},
   "outputs": [],
   "source": [
    "import pandas as pd\n",
    "import matplotlib.pyplot as plt\n",
    "import numpy as np\n",
    "import seaborn as sns"
   ]
  },
  {
   "cell_type": "code",
   "execution_count": 2,
   "id": "f975c6dd-c138-4166-a259-82bbea87f324",
   "metadata": {},
   "outputs": [
    {
     "data": {
      "text/html": [
       "<div>\n",
       "<style scoped>\n",
       "    .dataframe tbody tr th:only-of-type {\n",
       "        vertical-align: middle;\n",
       "    }\n",
       "\n",
       "    .dataframe tbody tr th {\n",
       "        vertical-align: top;\n",
       "    }\n",
       "\n",
       "    .dataframe thead th {\n",
       "        text-align: right;\n",
       "    }\n",
       "</style>\n",
       "<table border=\"1\" class=\"dataframe\">\n",
       "  <thead>\n",
       "    <tr style=\"text-align: right;\">\n",
       "      <th></th>\n",
       "      <th>enrollee_id</th>\n",
       "      <th>city</th>\n",
       "      <th>city_development_index</th>\n",
       "      <th>gender</th>\n",
       "      <th>relevent_experience</th>\n",
       "      <th>enrolled_university</th>\n",
       "      <th>education_level</th>\n",
       "      <th>major_discipline</th>\n",
       "      <th>experience</th>\n",
       "      <th>company_size</th>\n",
       "      <th>company_type</th>\n",
       "      <th>training_hours</th>\n",
       "      <th>target</th>\n",
       "    </tr>\n",
       "  </thead>\n",
       "  <tbody>\n",
       "    <tr>\n",
       "      <th>0</th>\n",
       "      <td>8949</td>\n",
       "      <td>city_103</td>\n",
       "      <td>0.920</td>\n",
       "      <td>Male</td>\n",
       "      <td>Has relevent experience</td>\n",
       "      <td>no_enrollment</td>\n",
       "      <td>Graduate</td>\n",
       "      <td>STEM</td>\n",
       "      <td>20.0</td>\n",
       "      <td>NaN</td>\n",
       "      <td>NaN</td>\n",
       "      <td>36.0</td>\n",
       "      <td>1.0</td>\n",
       "    </tr>\n",
       "    <tr>\n",
       "      <th>1</th>\n",
       "      <td>29725</td>\n",
       "      <td>city_40</td>\n",
       "      <td>0.776</td>\n",
       "      <td>Male</td>\n",
       "      <td>No relevent experience</td>\n",
       "      <td>no_enrollment</td>\n",
       "      <td>Graduate</td>\n",
       "      <td>STEM</td>\n",
       "      <td>15.0</td>\n",
       "      <td>50-99</td>\n",
       "      <td>Pvt Ltd</td>\n",
       "      <td>47.0</td>\n",
       "      <td>0.0</td>\n",
       "    </tr>\n",
       "    <tr>\n",
       "      <th>2</th>\n",
       "      <td>11561</td>\n",
       "      <td>city_21</td>\n",
       "      <td>0.624</td>\n",
       "      <td>NaN</td>\n",
       "      <td>No relevent experience</td>\n",
       "      <td>Full time course</td>\n",
       "      <td>Graduate</td>\n",
       "      <td>STEM</td>\n",
       "      <td>5.0</td>\n",
       "      <td>NaN</td>\n",
       "      <td>NaN</td>\n",
       "      <td>83.0</td>\n",
       "      <td>0.0</td>\n",
       "    </tr>\n",
       "    <tr>\n",
       "      <th>3</th>\n",
       "      <td>33241</td>\n",
       "      <td>city_115</td>\n",
       "      <td>0.789</td>\n",
       "      <td>NaN</td>\n",
       "      <td>No relevent experience</td>\n",
       "      <td>NaN</td>\n",
       "      <td>Graduate</td>\n",
       "      <td>Business Degree</td>\n",
       "      <td>0.0</td>\n",
       "      <td>NaN</td>\n",
       "      <td>Pvt Ltd</td>\n",
       "      <td>52.0</td>\n",
       "      <td>1.0</td>\n",
       "    </tr>\n",
       "    <tr>\n",
       "      <th>4</th>\n",
       "      <td>666</td>\n",
       "      <td>city_162</td>\n",
       "      <td>0.767</td>\n",
       "      <td>Male</td>\n",
       "      <td>Has relevent experience</td>\n",
       "      <td>no_enrollment</td>\n",
       "      <td>Masters</td>\n",
       "      <td>STEM</td>\n",
       "      <td>20.0</td>\n",
       "      <td>50-99</td>\n",
       "      <td>Funded Startup</td>\n",
       "      <td>8.0</td>\n",
       "      <td>0.0</td>\n",
       "    </tr>\n",
       "  </tbody>\n",
       "</table>\n",
       "</div>"
      ],
      "text/plain": [
       "   enrollee_id      city  city_development_index gender  \\\n",
       "0         8949  city_103                   0.920   Male   \n",
       "1        29725   city_40                   0.776   Male   \n",
       "2        11561   city_21                   0.624    NaN   \n",
       "3        33241  city_115                   0.789    NaN   \n",
       "4          666  city_162                   0.767   Male   \n",
       "\n",
       "       relevent_experience enrolled_university education_level  \\\n",
       "0  Has relevent experience       no_enrollment        Graduate   \n",
       "1   No relevent experience       no_enrollment        Graduate   \n",
       "2   No relevent experience    Full time course        Graduate   \n",
       "3   No relevent experience                 NaN        Graduate   \n",
       "4  Has relevent experience       no_enrollment         Masters   \n",
       "\n",
       "  major_discipline  experience company_size    company_type  training_hours  \\\n",
       "0             STEM        20.0          NaN             NaN            36.0   \n",
       "1             STEM        15.0        50-99         Pvt Ltd            47.0   \n",
       "2             STEM         5.0          NaN             NaN            83.0   \n",
       "3  Business Degree         0.0          NaN         Pvt Ltd            52.0   \n",
       "4             STEM        20.0        50-99  Funded Startup             8.0   \n",
       "\n",
       "   target  \n",
       "0     1.0  \n",
       "1     0.0  \n",
       "2     0.0  \n",
       "3     1.0  \n",
       "4     0.0  "
      ]
     },
     "execution_count": 2,
     "metadata": {},
     "output_type": "execute_result"
    }
   ],
   "source": [
    "df=pd.read_csv(\"https://github.com/campusx-official/100-days-of-machine-learning/raw/refs/heads/main/day35-complete-case-analysis/data_science_job.csv\")\n",
    "df.head()"
   ]
  },
  {
   "cell_type": "code",
   "execution_count": 5,
   "id": "eca25512-9588-4e71-a23f-b85042d2e249",
   "metadata": {},
   "outputs": [
    {
     "data": {
      "text/plain": [
       "enrollee_id                0.000000\n",
       "city                       0.000000\n",
       "city_development_index     2.500261\n",
       "gender                    23.530640\n",
       "relevent_experience        0.000000\n",
       "enrolled_university        2.014824\n",
       "education_level            2.401086\n",
       "major_discipline          14.683161\n",
       "experience                 0.339284\n",
       "company_size              30.994885\n",
       "company_type              32.049274\n",
       "training_hours             3.998330\n",
       "target                     0.000000\n",
       "dtype: float64"
      ]
     },
     "execution_count": 5,
     "metadata": {},
     "output_type": "execute_result"
    }
   ],
   "source": [
    "df.isnull().mean()*100"
   ]
  },
  {
   "cell_type": "code",
   "execution_count": 8,
   "id": "34ad27ec-c0eb-4a71-a193-88cd6bc266c6",
   "metadata": {},
   "outputs": [
    {
     "data": {
      "text/plain": [
       "['city_development_index',\n",
       " 'enrolled_university',\n",
       " 'education_level',\n",
       " 'experience',\n",
       " 'training_hours']"
      ]
     },
     "execution_count": 8,
     "metadata": {},
     "output_type": "execute_result"
    }
   ],
   "source": [
    "cols=[var for var in df.columns if df[var].isnull().mean() <0.05 and df[var].isnull().mean()>0]\n",
    "cols"
   ]
  },
  {
   "cell_type": "code",
   "execution_count": 15,
   "id": "2b1e5725-d13e-4843-a889-1dd064042e73",
   "metadata": {},
   "outputs": [
    {
     "data": {
      "text/html": [
       "<div>\n",
       "<style scoped>\n",
       "    .dataframe tbody tr th:only-of-type {\n",
       "        vertical-align: middle;\n",
       "    }\n",
       "\n",
       "    .dataframe tbody tr th {\n",
       "        vertical-align: top;\n",
       "    }\n",
       "\n",
       "    .dataframe thead th {\n",
       "        text-align: right;\n",
       "    }\n",
       "</style>\n",
       "<table border=\"1\" class=\"dataframe\">\n",
       "  <thead>\n",
       "    <tr style=\"text-align: right;\">\n",
       "      <th></th>\n",
       "      <th>city_development_index</th>\n",
       "      <th>enrolled_university</th>\n",
       "      <th>education_level</th>\n",
       "      <th>experience</th>\n",
       "      <th>training_hours</th>\n",
       "    </tr>\n",
       "  </thead>\n",
       "  <tbody>\n",
       "    <tr>\n",
       "      <th>8505</th>\n",
       "      <td>0.666</td>\n",
       "      <td>no_enrollment</td>\n",
       "      <td>Graduate</td>\n",
       "      <td>17.0</td>\n",
       "      <td>111.0</td>\n",
       "    </tr>\n",
       "    <tr>\n",
       "      <th>8604</th>\n",
       "      <td>0.920</td>\n",
       "      <td>no_enrollment</td>\n",
       "      <td>Graduate</td>\n",
       "      <td>16.0</td>\n",
       "      <td>91.0</td>\n",
       "    </tr>\n",
       "    <tr>\n",
       "      <th>16757</th>\n",
       "      <td>0.624</td>\n",
       "      <td>no_enrollment</td>\n",
       "      <td>Graduate</td>\n",
       "      <td>8.0</td>\n",
       "      <td>91.0</td>\n",
       "    </tr>\n",
       "    <tr>\n",
       "      <th>669</th>\n",
       "      <td>0.926</td>\n",
       "      <td>Full time course</td>\n",
       "      <td>Masters</td>\n",
       "      <td>9.0</td>\n",
       "      <td>88.0</td>\n",
       "    </tr>\n",
       "    <tr>\n",
       "      <th>12035</th>\n",
       "      <td>0.479</td>\n",
       "      <td>NaN</td>\n",
       "      <td>Graduate</td>\n",
       "      <td>3.0</td>\n",
       "      <td>23.0</td>\n",
       "    </tr>\n",
       "  </tbody>\n",
       "</table>\n",
       "</div>"
      ],
      "text/plain": [
       "       city_development_index enrolled_university education_level  experience  \\\n",
       "8505                    0.666       no_enrollment        Graduate        17.0   \n",
       "8604                    0.920       no_enrollment        Graduate        16.0   \n",
       "16757                   0.624       no_enrollment        Graduate         8.0   \n",
       "669                     0.926    Full time course         Masters         9.0   \n",
       "12035                   0.479                 NaN        Graduate         3.0   \n",
       "\n",
       "       training_hours  \n",
       "8505            111.0  \n",
       "8604             91.0  \n",
       "16757            91.0  \n",
       "669              88.0  \n",
       "12035            23.0  "
      ]
     },
     "execution_count": 15,
     "metadata": {},
     "output_type": "execute_result"
    }
   ],
   "source": [
    "df[cols].sample(5)"
   ]
  },
  {
   "cell_type": "code",
   "execution_count": 18,
   "id": "093fe2d5-bebe-42e4-80a6-b46edd9a7480",
   "metadata": {},
   "outputs": [
    {
     "data": {
      "text/plain": [
       "17182"
      ]
     },
     "execution_count": 18,
     "metadata": {},
     "output_type": "execute_result"
    }
   ],
   "source": [
    "len(df[cols].dropna())"
   ]
  },
  {
   "cell_type": "code",
   "execution_count": 19,
   "id": "169ed981-30d5-49ef-890c-0a5e388e059a",
   "metadata": {},
   "outputs": [
    {
     "data": {
      "text/plain": [
       "19158"
      ]
     },
     "execution_count": 19,
     "metadata": {},
     "output_type": "execute_result"
    }
   ],
   "source": [
    "len(df)"
   ]
  },
  {
   "cell_type": "code",
   "execution_count": 20,
   "id": "b7420c1e-d6c4-4099-93af-07a1ae1a24ca",
   "metadata": {},
   "outputs": [
    {
     "data": {
      "text/plain": [
       "0.8968577095730244"
      ]
     },
     "execution_count": 20,
     "metadata": {},
     "output_type": "execute_result"
    }
   ],
   "source": [
    "17182/19158"
   ]
  },
  {
   "cell_type": "code",
   "execution_count": 22,
   "id": "399c1c88-9991-4e83-9211-a61014707949",
   "metadata": {},
   "outputs": [
    {
     "data": {
      "text/plain": [
       "((17182, 5), (19158, 13))"
      ]
     },
     "execution_count": 22,
     "metadata": {},
     "output_type": "execute_result"
    }
   ],
   "source": [
    "new_df=df[cols].dropna()\n",
    "new_df.shape,df.shape"
   ]
  },
  {
   "cell_type": "code",
   "execution_count": 29,
   "id": "f55d7b98-e1d4-4a1b-bc90-a8825ba6b2da",
   "metadata": {},
   "outputs": [
    {
     "data": {
      "image/png": "[encoded data removed]",
      "text/plain": [
       "<Figure size 1200x1200 with 4 Axes>"
      ]
     },
     "metadata": {},
     "output_type": "display_data"
    }
   ],
   "source": [
    "new_df.hist(bins=50, density=True, figsize=(12, 12))\n",
    "plt.show()"
   ]
  },
  {
   "cell_type": "code",
   "execution_count": 35,
   "id": "7f703a32-2999-4881-abcb-5dce5c8c235a",
   "metadata": {},
   "outputs": [
    {
     "data": {
      "image/png": "[encoded data removed]",
      "text/plain": [
       "<Figure size 600x300 with 1 Axes>"
      ]
     },
     "metadata": {},
     "output_type": "display_data"
    }
   ],
   "source": [
    "plt.figure(figsize=(6,3))\n",
    "plt.subplot(1,1,1)\n",
    "sns.histplot(df[\"training_hours\"],color='green',bins=50,kde=True)\n",
    "plt.subplot(1,1,1)\n",
    "sns.histplot(new_df[\"training_hours\"],color='red',bins=50,kde=True)\n",
    "plt.show()\n",
    "\n",
    "\n",
    "\n"
   ]
  },
  {
   "cell_type": "code",
   "execution_count": 39,
   "id": "4ba38a5b-552a-4af7-b743-055279f313c9",
   "metadata": {},
   "outputs": [
    {
     "data": {
      "text/plain": [
       "<Axes: >"
      ]
     },
     "execution_count": 39,
     "metadata": {},
     "output_type": "execute_result"
    },
    {
     "data": {
      "image/png": "[encoded data removed]",
      "text/plain": [
       "<Figure size 640x480 with 1 Axes>"
      ]
     },
     "metadata": {},
     "output_type": "display_data"
    }
   ],
   "source": [
    "fig = plt.figure()\n",
    "ax = fig.add_subplot(111)\n",
    "df['training_hours'].hist(bins=50, ax=ax, density=True, color='red')\n",
    "\n",
    "# data after cca, the argument alpha makes the color transparent, so we can\n",
    "# see the overlay of the 2 distributions\n",
    "new_df['training_hours'].hist(bins=50, ax=ax, color='green', density=True, alpha=0.8)"
   ]
  },
  {
   "cell_type": "code",
   "execution_count": 41,
   "id": "19cb1ded-43ad-4e76-b7fd-766579f18024",
   "metadata": {},
   "outputs": [
    {
     "data": {
      "image/png": "[encoded data removed]",
      "text/plain": [
       "<Figure size 600x300 with 1 Axes>"
      ]
     },
     "metadata": {},
     "output_type": "display_data"
    }
   ],
   "source": [
    "plt.figure(figsize=(6,3))\n",
    "plt.subplot(1,1,1)\n",
    "sns.histplot(df[\"city_development_index\"],color='green',bins=50)\n",
    "plt.subplot(1,1,1)\n",
    "sns.histplot(new_df[\"city_development_index\"],color='red',bins=50)\n",
    "plt.show()\n"
   ]
  },
  {
   "cell_type": "code",
   "execution_count": 45,
   "id": "1dab13e2-b15d-4b7c-8348-6f298db89b78",
   "metadata": {},
   "outputs": [
    {
     "data": {
      "text/html": [
       "<div>\n",
       "<style scoped>\n",
       "    .dataframe tbody tr th:only-of-type {\n",
       "        vertical-align: middle;\n",
       "    }\n",
       "\n",
       "    .dataframe tbody tr th {\n",
       "        vertical-align: top;\n",
       "    }\n",
       "\n",
       "    .dataframe thead th {\n",
       "        text-align: right;\n",
       "    }\n",
       "</style>\n",
       "<table border=\"1\" class=\"dataframe\">\n",
       "  <thead>\n",
       "    <tr style=\"text-align: right;\">\n",
       "      <th></th>\n",
       "      <th>Orginal</th>\n",
       "      <th>CCA</th>\n",
       "    </tr>\n",
       "    <tr>\n",
       "      <th>enrolled_university</th>\n",
       "      <th></th>\n",
       "      <th></th>\n",
       "    </tr>\n",
       "  </thead>\n",
       "  <tbody>\n",
       "    <tr>\n",
       "      <th>no_enrollment</th>\n",
       "      <td>0.721213</td>\n",
       "      <td>0.735188</td>\n",
       "    </tr>\n",
       "    <tr>\n",
       "      <th>Full time course</th>\n",
       "      <td>0.196106</td>\n",
       "      <td>0.200733</td>\n",
       "    </tr>\n",
       "    <tr>\n",
       "      <th>Part time course</th>\n",
       "      <td>0.062533</td>\n",
       "      <td>0.064079</td>\n",
       "    </tr>\n",
       "  </tbody>\n",
       "</table>\n",
       "</div>"
      ],
      "text/plain": [
       "                      Orginal       CCA\n",
       "enrolled_university                    \n",
       "no_enrollment        0.721213  0.735188\n",
       "Full time course     0.196106  0.200733\n",
       "Part time course     0.062533  0.064079"
      ]
     },
     "execution_count": 45,
     "metadata": {},
     "output_type": "execute_result"
    }
   ],
   "source": [
    "temp = pd.concat([         \n",
    "            df['enrolled_university'].value_counts() / len(df),\n",
    "            new_df['enrolled_university'].value_counts() / len(new_df)\n",
    "        ],\n",
    "        axis=1)\n",
    "\n",
    "temp.columns=[\"Orginal\",\"CCA\"]\n",
    "\n",
    "temp"
   ]
  },
  {
   "cell_type": "code",
   "execution_count": 51,
   "id": "5113bdfb-f98c-46fd-9e9e-d703aa41be61",
   "metadata": {},
   "outputs": [
    {
     "data": {
      "text/html": [
       "<div>\n",
       "<style scoped>\n",
       "    .dataframe tbody tr th:only-of-type {\n",
       "        vertical-align: middle;\n",
       "    }\n",
       "\n",
       "    .dataframe tbody tr th {\n",
       "        vertical-align: top;\n",
       "    }\n",
       "\n",
       "    .dataframe thead th {\n",
       "        text-align: right;\n",
       "    }\n",
       "</style>\n",
       "<table border=\"1\" class=\"dataframe\">\n",
       "  <thead>\n",
       "    <tr style=\"text-align: right;\">\n",
       "      <th></th>\n",
       "      <th>Orginal</th>\n",
       "      <th>CCA</th>\n",
       "    </tr>\n",
       "    <tr>\n",
       "      <th>education_level</th>\n",
       "      <th></th>\n",
       "      <th></th>\n",
       "    </tr>\n",
       "  </thead>\n",
       "  <tbody>\n",
       "    <tr>\n",
       "      <th>Graduate</th>\n",
       "      <td>0.605387</td>\n",
       "      <td>0.619835</td>\n",
       "    </tr>\n",
       "    <tr>\n",
       "      <th>Masters</th>\n",
       "      <td>0.227633</td>\n",
       "      <td>0.234082</td>\n",
       "    </tr>\n",
       "    <tr>\n",
       "      <th>High School</th>\n",
       "      <td>0.105282</td>\n",
       "      <td>0.107380</td>\n",
       "    </tr>\n",
       "    <tr>\n",
       "      <th>Phd</th>\n",
       "      <td>0.021610</td>\n",
       "      <td>0.022116</td>\n",
       "    </tr>\n",
       "    <tr>\n",
       "      <th>Primary School</th>\n",
       "      <td>0.016077</td>\n",
       "      <td>0.016587</td>\n",
       "    </tr>\n",
       "  </tbody>\n",
       "</table>\n",
       "</div>"
      ],
      "text/plain": [
       "                  Orginal       CCA\n",
       "education_level                    \n",
       "Graduate         0.605387  0.619835\n",
       "Masters          0.227633  0.234082\n",
       "High School      0.105282  0.107380\n",
       "Phd              0.021610  0.022116\n",
       "Primary School   0.016077  0.016587"
      ]
     },
     "execution_count": 51,
     "metadata": {},
     "output_type": "execute_result"
    }
   ],
   "source": [
    "temp=pd.concat(\n",
    "    [df[\"education_level\"].value_counts()/len(df),\n",
    "    new_df[\"education_level\"].value_counts()/len(new_df)],axis=1\n",
    ")\n",
    "temp.columns=[\"Orginal\",\"CCA\"]\n",
    "temp"
   ]
  },
  {
   "cell_type": "code",
   "execution_count": null,
   "id": "daab0863-a97b-4633-b163-f42ecea6138a",
   "metadata": {},
   "outputs": [],
   "source": []
  }
 ],
 "metadata": {
  "kernelspec": {
   "display_name": "Python 3 (ipykernel)",
   "language": "python",
   "name": "python3"
  },
  "language_info": {
   "codemirror_mode": {
    "name": "ipython",
    "version": 3
   },
   "file_extension": ".py",
   "mimetype": "text/x-python",
   "name": "python",
   "nbconvert_exporter": "python",
   "pygments_lexer": "ipython3",
   "version": "3.12.4"
  }
 },
 "nbformat": 4,
 "nbformat_minor": 5
}
